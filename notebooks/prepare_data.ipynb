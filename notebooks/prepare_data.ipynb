{
 "cells": [
  {
   "cell_type": "code",
   "execution_count": 17,
   "metadata": {},
   "outputs": [],
   "source": [
    "import json\n",
    "from pathlib import Path\n",
    "from ast import literal_eval"
   ]
  },
  {
   "cell_type": "code",
   "execution_count": 25,
   "metadata": {},
   "outputs": [],
   "source": [
    "ROOT_DIR = Path('notebooks/format_data.ipynb').resolve().parents[2]\n",
    "DATA_DIR = ROOT_DIR / \"data\"\n",
    "RAW_DIR = DATA_DIR / \"raw\"\n",
    "PREPARED_DIR = DATA_DIR / \"prepared\""
   ]
  },
  {
   "cell_type": "code",
   "execution_count": 26,
   "metadata": {},
   "outputs": [],
   "source": [
    "with open(RAW_DIR / \"CENTCOM/documents.json\", \"r\") as fp:\n",
    "    lines = fp.readlines()"
   ]
  },
  {
   "cell_type": "code",
   "execution_count": 27,
   "metadata": {},
   "outputs": [
    {
     "data": {
      "text/plain": [
       "'{ \"_id\" : \"001C9C3F3DFE16B4921B1E906F66E161\", \"sourceName\" : \"CENTCOM\", \"sourceUrl\" : \"http://www.centcom.mil/MEDIA/PRESS-RELEASES/Press-Release-View/Article/904608/centcom-reinforces-support-for-syrian-arab-coalition/\", \"wordCount\" : 193, \"sentenceCount\" : 8, \"title\" : \"CENTCOM reinforces support for Syrian Arab Coalition\", \"text\" : \"Photographs of U.S. service members in Syria shown wearing patches associated with the Kurdish YPG have recently circulated through traditional and social media. To clarify: U.S. forces are advising and assisting Syrian Democratic Forces (SDF), primarily Syrian Arab forces operating in the northern part of the country who are leading efforts in the campaign to defeat Daesh.\\\\n\\\\nGen. Joseph Votel, commander of U.S. Central Command said, \\\\\"We\\'ve been very clear from the outset of this campaign that to defeat Daesh we would need to work with many different elements operating on the ground in Iraq and Syria. In Syria, with the support of the 60-plus nation Counter-Daesh Coalition, the SDF, which includes the Syrian Arab Coalition, has made extraordinary progress over the past 20-plus months, retaking more than 18,000 square kilometers of territory previously held by the enemy. We will continue to support their efforts specific to the fight against Daesh. At the same time, we are enormously grateful for the tremendous support provided by our Coalition partners, especially the Turks. They remain integral to the accomplishment of our common objective which is the ultimate defeat of Daesh in Iraq and Syria.\\\\\"\" }\\n'"
      ]
     },
     "execution_count": 27,
     "metadata": {},
     "output_type": "execute_result"
    }
   ],
   "source": [
    "lines[0]"
   ]
  },
  {
   "cell_type": "code",
   "execution_count": 28,
   "metadata": {},
   "outputs": [
    {
     "data": {
      "text/plain": [
       "str"
      ]
     },
     "execution_count": 28,
     "metadata": {},
     "output_type": "execute_result"
    }
   ],
   "source": [
    "type(lines[0])"
   ]
  },
  {
   "cell_type": "code",
   "execution_count": 29,
   "metadata": {},
   "outputs": [
    {
     "data": {
      "text/plain": [
       "{'_id': '001C9C3F3DFE16B4921B1E906F66E161',\n",
       " 'sourceName': 'CENTCOM',\n",
       " 'sourceUrl': 'http://www.centcom.mil/MEDIA/PRESS-RELEASES/Press-Release-View/Article/904608/centcom-reinforces-support-for-syrian-arab-coalition/',\n",
       " 'wordCount': 193,\n",
       " 'sentenceCount': 8,\n",
       " 'title': 'CENTCOM reinforces support for Syrian Arab Coalition',\n",
       " 'text': 'Photographs of U.S. service members in Syria shown wearing patches associated with the Kurdish YPG have recently circulated through traditional and social media. To clarify: U.S. forces are advising and assisting Syrian Democratic Forces (SDF), primarily Syrian Arab forces operating in the northern part of the country who are leading efforts in the campaign to defeat Daesh.\\n\\nGen. Joseph Votel, commander of U.S. Central Command said, \"We\\'ve been very clear from the outset of this campaign that to defeat Daesh we would need to work with many different elements operating on the ground in Iraq and Syria. In Syria, with the support of the 60-plus nation Counter-Daesh Coalition, the SDF, which includes the Syrian Arab Coalition, has made extraordinary progress over the past 20-plus months, retaking more than 18,000 square kilometers of territory previously held by the enemy. We will continue to support their efforts specific to the fight against Daesh. At the same time, we are enormously grateful for the tremendous support provided by our Coalition partners, especially the Turks. They remain integral to the accomplishment of our common objective which is the ultimate defeat of Daesh in Iraq and Syria.\"'}"
      ]
     },
     "execution_count": 29,
     "metadata": {},
     "output_type": "execute_result"
    }
   ],
   "source": [
    "literal_eval(lines[0])"
   ]
  },
  {
   "cell_type": "code",
   "execution_count": 30,
   "metadata": {},
   "outputs": [
    {
     "data": {
      "text/plain": [
       "dict"
      ]
     },
     "execution_count": 30,
     "metadata": {},
     "output_type": "execute_result"
    }
   ],
   "source": [
    "type(literal_eval(lines[0]))"
   ]
  },
  {
   "cell_type": "code",
   "execution_count": 62,
   "metadata": {},
   "outputs": [],
   "source": [
    "def prepare_document_json(raw_dir: Path, doc_path: Path, output_dir: Path) -> None:\n",
    "    \"\"\"Prepare re3d dataset document json files into one json object\n",
    "\n",
    "    Args:\n",
    "        raw_dir (Path): Directory with raw json files\n",
    "        doc_path (Path): file path from raw_dir\n",
    "        output_dir (Path): Output Directory\n",
    "    \"\"\"\n",
    "    with open(raw_dir / doc_path, \"r\") as fp:\n",
    "        lines = fp.readlines()\n",
    "\n",
    "    lines_dict = {literal_eval(line)[\"_id\"]:literal_eval(line) for line in lines}\n",
    "\n",
    "    # make output dir if not exist\n",
    "    sub_dir = output_dir / doc_path.parents[0]\n",
    "    sub_dir.mkdir(parents=True, exist_ok=True)\n",
    "\n",
    "    with open(output_dir / doc_path, \"w\") as fp:\n",
    "        json.dump(lines_dict, fp)"
   ]
  },
  {
   "cell_type": "code",
   "execution_count": 63,
   "metadata": {},
   "outputs": [],
   "source": [
    "prepare_document_json(RAW_DIR, Path(\"CENTCOM/documents.json\"), PREPARED_DIR)"
   ]
  },
  {
   "cell_type": "code",
   "execution_count": 89,
   "metadata": {},
   "outputs": [],
   "source": [
    "doc_jsons = RAW_DIR.glob(\"**/documents.json\")"
   ]
  },
  {
   "cell_type": "code",
   "execution_count": 90,
   "metadata": {},
   "outputs": [
    {
     "data": {
      "text/plain": [
       "[PosixPath('/home/enyquist/repos/RLNER/data/raw/CENTCOM/documents.json'),\n",
       " PosixPath('/home/enyquist/repos/RLNER/data/raw/UK Government/documents.json'),\n",
       " PosixPath('/home/enyquist/repos/RLNER/data/raw/US State Department/documents.json'),\n",
       " PosixPath('/home/enyquist/repos/RLNER/data/raw/Australian Department of Foreign Affairs/documents.json'),\n",
       " PosixPath('/home/enyquist/repos/RLNER/data/raw/Wikipedia/documents.json'),\n",
       " PosixPath('/home/enyquist/repos/RLNER/data/raw/BBC Online/documents.json'),\n",
       " PosixPath('/home/enyquist/repos/RLNER/data/raw/Delegation of the European Union to Syria/documents.json')]"
      ]
     },
     "execution_count": 90,
     "metadata": {},
     "output_type": "execute_result"
    }
   ],
   "source": [
    "first = list(doc_jsons)"
   ]
  },
  {
   "cell_type": "code",
   "execution_count": 91,
   "metadata": {},
   "outputs": [],
   "source": [
    "for doc_json in RAW_DIR.glob(\"**/documents.json\"):\n",
    "    sub_path = Path(\"/\".join(doc_json.parts[-2:]))\n",
    "    prepare_document_json(RAW_DIR, Path(sub_path), PREPARED_DIR)"
   ]
  },
  {
   "cell_type": "code",
   "execution_count": 82,
   "metadata": {},
   "outputs": [
    {
     "data": {
      "text/plain": [
       "[PosixPath('/home/enyquist/repos/RLNER/data/raw/CENTCOM'),\n",
       " PosixPath('/home/enyquist/repos/RLNER/data/raw'),\n",
       " PosixPath('/home/enyquist/repos/RLNER/data'),\n",
       " PosixPath('/home/enyquist/repos/RLNER'),\n",
       " PosixPath('/home/enyquist/repos'),\n",
       " PosixPath('/home/enyquist'),\n",
       " PosixPath('/home'),\n",
       " PosixPath('/')]"
      ]
     },
     "execution_count": 82,
     "metadata": {},
     "output_type": "execute_result"
    }
   ],
   "source": [
    "list(first.parents)"
   ]
  },
  {
   "cell_type": "code",
   "execution_count": 87,
   "metadata": {},
   "outputs": [
    {
     "data": {
      "text/plain": [
       "PosixPath('CENTCOM/documents.json')"
      ]
     },
     "execution_count": 87,
     "metadata": {},
     "output_type": "execute_result"
    }
   ],
   "source": [
    "Path(\"/\".join(first.parts[-2:]))"
   ]
  },
  {
   "cell_type": "code",
   "execution_count": null,
   "metadata": {},
   "outputs": [],
   "source": []
  }
 ],
 "metadata": {
  "kernelspec": {
   "display_name": "Python 3.10.6 ('venv': venv)",
   "language": "python",
   "name": "python3"
  },
  "language_info": {
   "codemirror_mode": {
    "name": "ipython",
    "version": 3
   },
   "file_extension": ".py",
   "mimetype": "text/x-python",
   "name": "python",
   "nbconvert_exporter": "python",
   "pygments_lexer": "ipython3",
   "version": "3.10.6"
  },
  "orig_nbformat": 4,
  "vscode": {
   "interpreter": {
    "hash": "1566ea1af4a47ca7acc671ba85a809484c1db5e7319af0d3caf0750117059574"
   }
  }
 },
 "nbformat": 4,
 "nbformat_minor": 2
}
